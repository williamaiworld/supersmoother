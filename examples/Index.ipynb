{
 "metadata": {
  "name": "",
  "signature": "sha256:f66083291485f7a103bcc755c427a7478a56df85a0e61ae08164c1aa43d19390"
 },
 "nbformat": 3,
 "nbformat_minor": 0,
 "worksheets": [
  {
   "cells": [
    {
     "cell_type": "markdown",
     "metadata": {},
     "source": [
      "# SuperSmoother Examples\n",
      "\n",
      "These are examples of Friedman's SuperSmoother algorithm using the Python [supersmoother package](http://github.com/jakevdp/supersmoother).\n",
      "\n",
      "- [SuperSmoother](Supersmoother.ipynb): straightforward example of the algorithm following Friedman's paper\n",
      "- [Periodic Example](Periodic.ipynb): example of how to use a periodic smooth"
     ]
    },
    {
     "cell_type": "markdown",
     "metadata": {},
     "source": [
      "      "
     ]
    }
   ],
   "metadata": {}
  }
 ]
}